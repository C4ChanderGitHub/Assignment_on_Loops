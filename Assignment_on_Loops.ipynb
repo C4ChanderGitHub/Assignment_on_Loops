{
 "cells": [
  {
   "cell_type": "markdown",
   "id": "3f3a825b",
   "metadata": {},
   "source": [
    "# 1. Print numbers from 1 to 5 using a while loop"
   ]
  },
  {
   "cell_type": "code",
   "execution_count": 1,
   "id": "3f2b029b",
   "metadata": {},
   "outputs": [
    {
     "name": "stdout",
     "output_type": "stream",
     "text": [
      "1\n",
      "2\n",
      "3\n",
      "4\n",
      "5\n"
     ]
    }
   ],
   "source": [
    "# display a number series from 1 to 5\n",
    "numeric_variable = 1\n",
    "while numeric_variable <=5:\n",
    "    print(numeric_variable)\n",
    "    numeric_variable += 1"
   ]
  },
  {
   "cell_type": "markdown",
   "id": "b2666e33",
   "metadata": {},
   "source": [
    "# 2. Calculate the sum of numbers from 1 to 10 using a while loop"
   ]
  },
  {
   "cell_type": "code",
   "execution_count": 2,
   "id": "922f253f",
   "metadata": {},
   "outputs": [
    {
     "name": "stdout",
     "output_type": "stream",
     "text": [
      "sum of 1 to 10 = 55\n"
     ]
    }
   ],
   "source": [
    "# sum of numbers 1 to 10\n",
    "numb_variable = 0\n",
    "numb_variable1 = 10\n",
    "while numb_variable1 != 0:\n",
    "    numb_variable += numb_variable1\n",
    "    numb_variable1 -=1\n",
    "print(f\"sum of 1 to 10 = {numb_variable}\")"
   ]
  },
  {
   "cell_type": "code",
   "execution_count": 3,
   "id": "3ec26f54",
   "metadata": {},
   "outputs": [
    {
     "name": "stdout",
     "output_type": "stream",
     "text": [
      "5 + 8 + 3 + 6 + 8 + 1 + 6 + 4 = 45\n"
     ]
    }
   ],
   "source": [
    "#sum of the list item in dynamic way\n",
    "list5 = [5,8,4,3,6,8,1,6,4]\n",
    "start = 0\n",
    "for i in list5:\n",
    "    start += i\n",
    "    if i == list5[len(list5)-1]:\n",
    "        continue\n",
    "    print(i, end=\" + \")\n",
    "else:\n",
    "    print(f\"{i} = {start}\")"
   ]
  },
  {
   "cell_type": "markdown",
   "id": "9b779315",
   "metadata": {},
   "source": [
    "# 3. Calculate the factorial of a number using a for loop"
   ]
  },
  {
   "cell_type": "code",
   "execution_count": 4,
   "id": "007382d7",
   "metadata": {},
   "outputs": [
    {
     "name": "stdout",
     "output_type": "stream",
     "text": [
      "Question: - find the factorial of 6\n",
      "Ans: - factorial of 6 is 720\n"
     ]
    }
   ],
   "source": [
    "# to find out factorial\n",
    "factorial = int(input(\"Question: - find the factorial of \"))\n",
    "start_num = 1\n",
    "for i in range(factorial,0,-1):\n",
    "    start_num = start_num * i\n",
    "print(f\"Ans: - factorial of {factorial} is {start_num}\")"
   ]
  },
  {
   "cell_type": "markdown",
   "id": "a933ea6a",
   "metadata": {},
   "source": [
    "# 4. Count the number of vowels in a string using a for loop"
   ]
  },
  {
   "cell_type": "code",
   "execution_count": 5,
   "id": "c54dec8a",
   "metadata": {},
   "outputs": [
    {
     "name": "stdout",
     "output_type": "stream",
     "text": [
      "Question: - How many vowels in Chander Parkash\n",
      "Ans: - Total vowels in 'Chander Parkash' is 4\n"
     ]
    }
   ],
   "source": [
    "# vowels counting in string\n",
    "var1 = input(\"Question: - How many vowels in \")\n",
    "vowels_count = 0\n",
    "for i in var1:\n",
    "    if i in \"aeiouAEIOU\":\n",
    "        vowels_count += 1\n",
    "print(f\"Ans: - Total vowels in '{var1}' is {vowels_count}\")"
   ]
  },
  {
   "cell_type": "code",
   "execution_count": 6,
   "id": "c1d6b119",
   "metadata": {},
   "outputs": [
    {
     "name": "stdout",
     "output_type": "stream",
     "text": [
      "Question: - How many vowels in My name is Chander Parkash\n",
      "Ans: - Total vowels in \"My name is Chander Parkash\" is 7 i.e. ['a', 'e', 'i', 'a', 'e', 'a', 'a']\n"
     ]
    }
   ],
   "source": [
    "# vowels counting in string and show all vowels of the string or sentence\n",
    "var2 = input(\"Question: - How many vowels in \")\n",
    "vowels_count2 = []\n",
    "for i in var2:\n",
    "    if i in \"aeiouAEIOU\":\n",
    "        vowels_count2.append(i)\n",
    "\n",
    "print(f'Ans: - Total vowels in \"{var2}\" is {len(vowels_count2)} i.e. {vowels_count2}')"
   ]
  },
  {
   "cell_type": "markdown",
   "id": "9025b927",
   "metadata": {},
   "source": [
    "# 5. Print a pattern using nested loops"
   ]
  },
  {
   "cell_type": "code",
   "execution_count": 7,
   "id": "c2fd2d68",
   "metadata": {},
   "outputs": [
    {
     "name": "stdout",
     "output_type": "stream",
     "text": [
      "* \n",
      "* * \n",
      "* * * \n",
      "* * * * \n",
      "* * * * * \n",
      "* * * * \n",
      "* * * \n",
      "* * \n",
      "* \n",
      "\n"
     ]
    }
   ],
   "source": [
    "# try new pattern by using nested loops\n",
    "for i in range(5):\n",
    "    for j in range(i+1):\n",
    "        print('*', end = \" \")\n",
    "    print()\n",
    "for i in range(5)[::-1]:\n",
    "    for j in range(i):\n",
    "        print('*', end = \" \")\n",
    "    print()"
   ]
  },
  {
   "cell_type": "markdown",
   "id": "e3a977dc",
   "metadata": {},
   "source": [
    "# 6. Generate a multiplication table using nested loops"
   ]
  },
  {
   "cell_type": "code",
   "execution_count": 8,
   "id": "e59c73d1",
   "metadata": {},
   "outputs": [
    {
     "name": "stdout",
     "output_type": "stream",
     "text": [
      "enter the value to generate table = 5\n",
      "\n",
      "5 X 1 = 5\n",
      "5 X 2 = 10\n",
      "5 X 3 = 15\n",
      "5 X 4 = 20\n",
      "5 X 5 = 25\n",
      "5 X 6 = 30\n",
      "5 X 7 = 35\n",
      "5 X 8 = 40\n",
      "5 X 9 = 45\n",
      "5 X 10 = 50\n"
     ]
    }
   ],
   "source": [
    "# Generate a multiplication table with single loop\n",
    "table = int(input(\"enter the value to generate table = \"))\n",
    "print()\n",
    "for i in range (10):\n",
    "    print(f\"{table} X {i+1} = {table*(i+1)}\")"
   ]
  },
  {
   "cell_type": "code",
   "execution_count": 9,
   "id": "68b2a4f3",
   "metadata": {},
   "outputs": [
    {
     "name": "stdout",
     "output_type": "stream",
     "text": [
      "enter the value to generate table = 4\n",
      "\n",
      "4 X 1 = 4\n",
      "4 X 2 = 8\n",
      "4 X 3 = 12\n",
      "4 X 4 = 16\n",
      "4 X 5 = 20\n",
      "4 X 6 = 24\n",
      "4 X 7 = 28\n",
      "4 X 8 = 32\n",
      "4 X 9 = 36\n",
      "4 X 10 = 40\n"
     ]
    }
   ],
   "source": [
    "#generate a multiplication table with single loop\n",
    "table = int(input(\"enter the value to generate table = \"))\n",
    "print()\n",
    "for i in range (1,11):\n",
    "    print(f\"{table} X {i} = {i*table}\")"
   ]
  },
  {
   "cell_type": "code",
   "execution_count": 10,
   "id": "7ed8f693",
   "metadata": {},
   "outputs": [
    {
     "name": "stdout",
     "output_type": "stream",
     "text": [
      "enter the number which display in form of tables = 5\n",
      "\n",
      "1 x 1 = 1\n",
      "1 x 2 = 2\n",
      "1 x 3 = 3\n",
      "1 x 4 = 4\n",
      "1 x 5 = 5\n",
      "1 x 6 = 6\n",
      "1 x 7 = 7\n",
      "1 x 8 = 8\n",
      "1 x 9 = 9\n",
      "1 x 10 = 10\n",
      "\n",
      "2 x 1 = 2\n",
      "2 x 2 = 4\n",
      "2 x 3 = 6\n",
      "2 x 4 = 8\n",
      "2 x 5 = 10\n",
      "2 x 6 = 12\n",
      "2 x 7 = 14\n",
      "2 x 8 = 16\n",
      "2 x 9 = 18\n",
      "2 x 10 = 20\n",
      "\n",
      "3 x 1 = 3\n",
      "3 x 2 = 6\n",
      "3 x 3 = 9\n",
      "3 x 4 = 12\n",
      "3 x 5 = 15\n",
      "3 x 6 = 18\n",
      "3 x 7 = 21\n",
      "3 x 8 = 24\n",
      "3 x 9 = 27\n",
      "3 x 10 = 30\n",
      "\n",
      "4 x 1 = 4\n",
      "4 x 2 = 8\n",
      "4 x 3 = 12\n",
      "4 x 4 = 16\n",
      "4 x 5 = 20\n",
      "4 x 6 = 24\n",
      "4 x 7 = 28\n",
      "4 x 8 = 32\n",
      "4 x 9 = 36\n",
      "4 x 10 = 40\n",
      "\n",
      "5 x 1 = 5\n",
      "5 x 2 = 10\n",
      "5 x 3 = 15\n",
      "5 x 4 = 20\n",
      "5 x 5 = 25\n",
      "5 x 6 = 30\n",
      "5 x 7 = 35\n",
      "5 x 8 = 40\n",
      "5 x 9 = 45\n",
      "5 x 10 = 50\n",
      "\n"
     ]
    }
   ],
   "source": [
    "#Generate a multiplication table using nested loops\n",
    "max_number = int(input(\"enter the number which display in form of tables = \"))\n",
    "print()\n",
    "for i in range(1, max_number+1):\n",
    "  for j in range(1, 11):\n",
    "    print(f\"{i} x {j} = {i*j}\")\n",
    "  print()"
   ]
  }
 ],
 "metadata": {
  "kernelspec": {
   "display_name": "Python 3 (ipykernel)",
   "language": "python",
   "name": "python3"
  },
  "language_info": {
   "codemirror_mode": {
    "name": "ipython",
    "version": 3
   },
   "file_extension": ".py",
   "mimetype": "text/x-python",
   "name": "python",
   "nbconvert_exporter": "python",
   "pygments_lexer": "ipython3",
   "version": "3.11.5"
  }
 },
 "nbformat": 4,
 "nbformat_minor": 5
}
